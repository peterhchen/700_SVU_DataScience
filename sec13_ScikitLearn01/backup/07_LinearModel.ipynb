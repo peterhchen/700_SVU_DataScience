{
 "cells": [
  {
   "attachments": {
    "image-2.png": {
     "image/png": "[encoded data removed]"
    },
    "image.png": {
     "image/png": "[encoded data removed]"
    }
   },
   "cell_type": "markdown",
   "metadata": {},
   "source": [
    "# Scikit-Learn - Basic Linear Modeling\n",
    "\n",
    "First, we understand what is L1 Lasso and L2 Ridge Regularization.\n",
    "\n",
    "## What is L1 Lasso and L2 Ridge Regularization?\n",
    "\n",
    "https://towardsdatascience.com/l1-and-l2-regularization-methods-ce25e7fc831c\n",
    "    \n",
    "A regression model that uses L1 regularization technique is called Lasso Regression.\n",
    "\n",
    "A regression model that uses L2 is called Ridge Regression.\n",
    "\n",
    "The key difference between these two is the penalty term.\n",
    "\n",
    "## Ridge regression\n",
    "\n",
    "Ridge regression adds “squared magnitude” of coefficient as penalty term to the loss function. \n",
    "\n",
    "Here the highlighted part represents L2 regularization element.\n",
    "\n",
    "![image.png](attachment:image.png)\n",
    "\n",
    "Here, if lambda is zero then you can imagine we get back OLS. However, if lambda is very large then it will add too much weight and it will lead to under-fitting. Having said that it’s important how lambda is chosen. This technique works very well to avoid over-fitting issue.\n",
    "\n",
    "## Lasso Regression\n",
    "\n",
    "Lasso Regression (Least Absolute Shrinkage and Selection Operator) adds “absolute value of magnitude” of coefficient as penalty term to the loss function.\n",
    "\n",
    "![image-2.png](attachment:image-2.png)\n",
    "\n",
    "If lambda is zero then we will get back OLS (Ordinary Least Square) whereas very large value will make coefficients zero hence it will under-fit.\n",
    "\n",
    "The key difference between these techniques is that Lasso shrinks the less important feature’s coefficient to zero thus, removing some feature altogether. \n",
    "\n",
    "So, this works well for feature selection in case we have a huge number of features."
   ]
  },
  {
   "cell_type": "markdown",
   "metadata": {},
   "source": [
    "Question: What is difference of Absolute value and Norm?\n",
    "\n",
    "https://www.quora.com/What-is-the-difference-between-the-norm-and-the-absolute-in-a-vector\n",
    "\n",
    "Absolute value for a complex number a + bj.\n",
    "\n",
    "The square root of the sum of the squares of its real and imaginary parts.\n",
    "    \n",
    "$$\\sqrt{a^2+b^2}$$\n",
    "\n",
    "Absolute value is denoted by | |.\n",
    "\n",
    "The norm means that which is regarded as normal or typical:\n",
    "    \n",
    "$$L_n=(∑∥x_k∥^n)^{1/n} $$\n",
    "\n",
    "In 2 dimensions, \n",
    "- the L1 norm is the sum of the x-dist and y-dist.\n",
    "- the L2 norm is the sumf of square of x-distr and y-dist."
   ]
  },
  {
   "cell_type": "markdown",
   "metadata": {},
   "source": [
    "# Linear Modeling in Scikit-Learn\n",
    "\n",
    "Then We discuss in the linear modeling in Scikit-Learn. \n",
    "\n",
    "Let us begin by understanding what is linear regression in Sklearn.\n",
    "\n",
    "The following table lists out various linear models provided by Scikit-Learn:\n",
    "    \n",
    "| No  | Model and Description |\n",
    "| :-- | :-------------------- |\n",
    "| 1   | Linear Regression     |\n",
    "|     | It is one of the best statistical models that studies the relationship between a dependent variable (Y) with a given set of independent variables (X). |\n",
    "| 2   | Logistic Regression   |\n",
    "|     | Logistic regression is a classification algorithm rather than regression algorithm. Based on a given set of independent variables, it is used to estimate discrete value (0 or 1, yes/no, true/false). |\n",
    "| 3   | Ridge Regression      |\n",
    "|     | Ridge regression (or Tikhonov regularization) is the regularization technique that performs L2 regularization. It modifies the loss function by adding the penalty (shrinkage quantity) equivalent to the square of the magnitude of coefficients. |\n",
    "| 4   | Bayesian Ridge Regression |\n",
    "|     | Bayesian regression allows a natural mechanism to survive insufficient data or poorly distributed data by formulating linear regression using probability distributors rather than point estimates. |\n",
    "| 5   | LASSO |\n",
    "|     | LASSO is the regularization technique that performs L1 regularization. It modifies the loss function by adding the penalty (shrinkage quantity) equivalent to the summation of the absolute value of coefficients. |\n",
    "| 6   | Multi-task LASSO |\n",
    "|     | It allows to fit multiple regression problems jointly enforcing the selected features to be same for all the regression problems, also called tasks. Scikit-learn provides a linear model named MultiTaskLasso, trained with a mixed L1, L2-norm for regularization, which estimates sparse coefficients for multiple regression problems jointly. |\n",
    "| 7   | Elastic-Net |\n",
    "|     | The Elastic-Net is a regularized regression method that linearly combines both penalties i.e. L1 and L2 of the Lasso and Ridge regression methods. It is useful when there are multiple correlated features. |\n",
    "| 8   | Multi-task Elastic-Net |\n",
    "|     | It is an Elastic-Net model that allows to fit multiple regression problems jointly enforcing the selected features to be same for all the regression problems, also called tasks. |"
   ]
  },
  {
   "cell_type": "markdown",
   "metadata": {},
   "source": [
    "# Scikit Learn - Linear Regression\n",
    "\n",
    "https://scikit-learn.org/stable/modules/generated/sklearn.linear_model.LinearRegression.html\n",
    "\n",
    "It is one of the best statistical models that studies the relationship between a dependent variable (Y) with a given set of independent variables (X). The relationship can be established with the help of fitting a best line.\n",
    "\n",
    "sklearn.linear_model.LinearRegression is the module used to implement linear regression.\n",
    "\n",
    "### Parameters\n",
    "\n",
    "Following table consists the parameters used by Linear Regression module −\n",
    "\n",
    "| No  | Parameter and Description |\n",
    "| :-- | :------------------------ |\n",
    "| 1   | fit_intercept − Boolean, optional, default True |\n",
    "|     | Used to calculate the intercept for the model. No intercept will be used in the calculation if this set to false. |\n",
    "| 2   | normalize − Boolean, optional, default False |\n",
    "|     | If this parameter is set to True, the regressor X will be normalized before regression. The normalization will be done by subtracting the mean and dividing it by L2 norm. If fit_intercept = False, this parameter will be ignored. |\n",
    "| 3   | copy_X − Boolean, optional, default True |\n",
    "|     | By default, it is true which means X will be copied. But if it is set to false, X may be overwritten. |\n",
    "| 4   | n_jobs − int or None, optional(default = None) |\n",
    "|     | It represents the number of jobs to use for the computation. |\n",
    "\n",
    "### Attributes\n",
    "\n",
    "Following table consists the attributes used by Linear Regression module −\n",
    "\n",
    "| No  | Attributes and Description |\n",
    "| :-- | :------------------------- |\n",
    "| 1   | coef_ − array, shape(n_features,) or (n_targets, n_features) |\n",
    "|     | It is used to estimate the coefficients for the linear regression problem. It would be a 2D array of shape (n_targets, n_features) if multiple targets are passed during fit. Ex. (y 2D). On the other hand, it would be a 1D array of length (n_features) if only one target is passed during fit. |\n",
    "| 2   | Intercept_ − array |\n",
    "|     | This is an independent term in this linear model. |"
   ]
  },
  {
   "cell_type": "markdown",
   "metadata": {},
   "source": [
    "# Example: Linear Regression Model"
   ]
  },
  {
   "cell_type": "code",
   "execution_count": 12,
   "metadata": {},
   "outputs": [
    {
     "name": "stdout",
     "output_type": "stream",
     "text": [
      "X:\n",
      " [[1 1]\n",
      " [1 2]\n",
      " [2 2]\n",
      " [2 3]]\n",
      "\n",
      "y:\n",
      " [ 6  8  9 11]\n",
      "\n",
      "regr.predict(np.array([[3,5]])):\n",
      " [16.]\n",
      "\n",
      "regr.score(X,y):\n",
      " 1.0\n",
      "\n",
      "regr.coef_:\n",
      " [1. 2.]\n",
      "\n",
      "regr.intercept_:\n",
      " 3.0000000000000018\n",
      "\n"
     ]
    }
   ],
   "source": [
    "import numpy as np\n",
    "from sklearn.linear_model import LinearRegression\n",
    "X = np.array([[1,1],[1,2],[2,2],[2,3]])\n",
    "y = np.dot(X, np.array([1,2])) + 3\n",
    "\n",
    "print ('X:\\n', X)\n",
    "print()\n",
    "print('y:\\n', y)\n",
    "print()\n",
    "\n",
    "regr = LinearRegression(\n",
    "   fit_intercept = True, normalize = True, copy_X = True, n_jobs = 2\n",
    ").fit(X,y)\n",
    "print('regr.predict(np.array([[3,5]])):\\n', regr.predict(np.array([[3,5]])))\n",
    "print()\n",
    "\n",
    "print('regr.score(X,y):\\n', regr.score(X,y))\n",
    "print()\n",
    "print('regr.coef_:\\n', regr.coef_)\n",
    "print()\n",
    "print('regr.intercept_:\\n', regr.intercept_)\n",
    "print()\n"
   ]
  },
  {
   "cell_type": "markdown",
   "metadata": {},
   "source": [
    "# Scikit Learn - Logistic Regression\n",
    "\n",
    "https://scikit-learn.org/stable/modules/generated/sklearn.linear_model.LogisticRegression.html\n",
    "\n",
    "Logistic regression, despite its name, is a classification algorithm rather than regression algorithm. \n",
    "\n",
    "Based on a given set of independent variables, it is used to estimate discrete value (0 or 1, yes/no, true/false). \n",
    "\n",
    "It is also called logit or MaxEnt Classifier.\n",
    "\n",
    "Basically, it measures the relationship between the categorical dependent variable and one or more independent variables by estimating the probability of occurrence of an event using its logistics function.\n",
    "\n",
    "sklearn.linear_model.LogisticRegression is the module used to implement logistic regression.\n",
    "\n",
    "## Parameters\n",
    "\n",
    "Following table lists the parameters used by Logistic Regression module −\n",
    "\n",
    "| No  | Parameter and Description |\n",
    "| :-- | :------------------------ |\n",
    "| 1   | penalty − str, 'L1', 'L2', 'elasticnet' or none, optional, default = 'L2' |\n",
    "|     | This parameter is used to specify the norm (L1 or L2) used in penalization (regularization). |\n",
    "| 2   | dual − Boolean, optional, default = False |\n",
    "|     | It is used for dual or primal formulation whereas dual formulation is only implemented for L2 penalty. |\n",
    "| 3   | tol − float, optional, default=1e-4 |\n",
    "|     | It represents the tolerance for stopping criteria. |\n",
    "| 4   | C − float, optional, default=1.0 |\n",
    "|     | It represents the inverse of regularization strength, which must always be a positive float. |\n",
    "| 5   | fit_intercept − Boolean, optional, default = True |\n",
    "|     | This parameter specifies that a constant (bias or intercept) should be added to the decision function. |\n",
    "| 6   | intercept_scaling − float, optional, default = 1 |\n",
    "|     | This parameter is useful when |\n",
    "|     | - the solver 'liblinear' is used |\n",
    "|     | - fit_intercept is set to true |\n",
    "| 7   | class_weight − dict or ‘balanced’ optional, default = none |\n",
    "|     | It represents the weights associated with classes. If we use the default option, it means all the classes are supposed to have weight one. On the other hand, if you choose class_weight: balanced, it will use the values of y to automatically adjust weights.|\n",
    "| 8   | random_state − int, RandomState instance or None, optional, default = none |\n",
    "|     | This parameter represents the seed of the pseudo random number generated which is used while shuffling the data. Followings are the options |\n",
    "|     | - int − in this case, random_state is the seed used by random number generator. |\n",
    "|     | - RandomState instance − in this case, random_state is the random number generator. |\n",
    "|     | - None − in this case, the random number generator is the RandonState instance used by np.random. |\n",
    "| 9   | solver − str, {'newton-cg', 'lbfgs', 'liblinear', 'saag', 'saga'}, optional, default = 'liblinear' |\n",
    "|     | This parameter represents which algorithm to use in the optimization problem. Followings are the properties of options under this parameter − |\n",
    "|     | - liblinear − It is a good choice for small datasets. It also handles L1 penalty. For multiclass problems, it is limited to one-versus-rest schemes. |\n",
    "|     | - newton-cg − It handles only L2 penalty. |\n",
    "|     | - lbfgs − For multiclass problems, it handles multinomial loss. It also handles only L2 penalty. |\n",
    "|     | - saga − It is a good choice for large datasets. For multiclass problems, it also handles multinomial loss. Along with L1 penalty, it also supports ‘elasticnet’ penalty. |\n",
    "|     | - sag − It is also used for large datasets. For multiclass problems, it also handles multinomial loss. |\n",
    "| 10  | max_iter − int, optional, default = 100 |\n",
    "|     | As name suggest, it represents the maximum number of iterations taken for solvers to converge. |\n",
    "| 11  | multi_class − str, {'ovr', 'multinomial', 'auto'}, optional, default = 'ovr' |\n",
    "|     | - ovr − For this option, a binary problem is fit for each label. |\n",
    "|     | - multimonial − For this option, the loss minimized is the multinomial loss fit across the entire probability distribution. We cannot use this option if solver = 'liblinear'. |\n",
    "|     | - auto − This option will select 'ovr' if solver = 'liblinear' or data is binary, else it will choose 'multinomial'. |\n",
    "| 12  | verbose − int, optional, default = 0 |\n",
    "|     | By default, the value of this parameter is 0 but for liblinear and lbfgs solver we should set verbose to any positive number. |\n",
    "| 13  | warm_start − bool, optional, default = false |\n",
    "|     | With this parameter set to True, we can reuse the solution of the previous call to fit as initialization. If we choose default i.e. false, it will erase the previous solution. |\n",
    "| 14  | n_jobs − int or None, optional, default = None |\n",
    "|     | If multi_class = 'ovr', this parameter represents the number of CPU cores used when parallelizing over classes. It is ignored when solver = 'liblinear'. |\n",
    "| 15  | l1_ratio − float or None, optional, dgtefault = None |\n",
    "|     | It is used in case when penalty = ‘elasticnet’. It is basically the Elastic-Net mixing parameter with 0 < = l1_ratio > = 1. |\n",
    "\n",
    "## Attributes\n",
    "\n",
    "Followings table consist the attributes used by Logistic Regression module −\n",
    "\n",
    "| No  | Attributes and Description |\n",
    "| :-- | :------------------------- |\n",
    "| 1   | coef_ − array, shape(n_features,) or (n_classes, n_features) |\n",
    "|     | It is used to estimate the coefficients of the features in the decision function. When the given problem is binary, it is of the shape (1, n_features). |\n",
    "| 2   | Intercept_ − array, shape(1) or (n_classes) |\n",
    "|     | It represents the constant, also known as bias, added to the decision function. |\n",
    "| 3   | classes_ − array, shape(n_classes) |\n",
    "|     | It will provide a list of class labels known to the classifier. |\n",
    "| 4   | n_iter_ − array, shape (n_classes) or (1) |\n",
    "\n",
    "It returns the actual number of iterations for all the classes."
   ]
  },
  {
   "cell_type": "markdown",
   "metadata": {},
   "source": [
    "# Example: Logistic Regression Model"
   ]
  },
  {
   "cell_type": "code",
   "execution_count": 3,
   "metadata": {},
   "outputs": [
    {
     "name": "stdout",
     "output_type": "stream",
     "text": [
      "LRG.score(X, y):\n",
      " 0.96\n"
     ]
    }
   ],
   "source": [
    "from sklearn import datasets\n",
    "from sklearn import linear_model\n",
    "from sklearn.datasets import load_iris\n",
    "\n",
    "X, y = load_iris(return_X_y = True)\n",
    "LRG = linear_model.LogisticRegression (\n",
    "   random_state = 0, solver = 'liblinear',multi_class = 'auto'\n",
    ")\n",
    "\n",
    "LRG.fit(X, y)\n",
    "print ('LRG.score(X, y):\\n', LRG.score(X, y))"
   ]
  },
  {
   "attachments": {
    "image.png": {
     "image/png": "[encoded data removed]"
    }
   },
   "cell_type": "markdown",
   "metadata": {},
   "source": [
    "# Scikit Learn - Ridge Regression\n",
    "\n",
    "Ridge regression or Tikhonov regularization is the regularization technique that performs L2 regularization. It modifies the loss function by adding the penalty (shrinkage quantity) equivalent to the square of the magnitude of coefficients.\n",
    "\n",
    "![image.png](attachment:image.png)\n",
    "\n",
    "- sklearn.linear_model.Ridge is the module used to solve a regression model where loss function is the linear least squares function and regularization is L2."
   ]
  },
  {
   "cell_type": "markdown",
   "metadata": {},
   "source": [
    "## Parameters\n",
    "\n",
    "Following table consists the parameters used by Ridge module −\n",
    "\n",
    "| No  | Parameter and Description |\n",
    "| :-- | :---- |\n",
    "| 1   | alpha − {float, array-like}, shape(n_targets) |\n",
    "|     | Alpha is the tuning parameter that decides how much we want to penalize the model. |\n",
    "| 2   | fit_intercept − Boolean |\n",
    "|     | This parameter specifies that a constant (bias or intercept) should be added to the decision function. No intercept will be used in calculation, if it will set to false. |\n",
    "| 3   | tol − float, optional, default=1e-4 |\n",
    "|     | It represents the precision of the solution. |\n",
    "| 4   | normalize − Boolean, optional, default = False |\n",
    "|     | If this parameter is set to True, the regressor X will be normalized before regression. The normalization will be done by subtracting the mean and dividing it by L2 norm. If fit_intercept = False, this parameter will be ignored. |\n",
    "| 5   | copy_X − Boolean, optional, default = True |\n",
    "|     | By default, it is true which means X will be copied. But if it is set to false, X may be overwritten. |\n",
    "| 6   | max_iter − int, optional |\n",
    "|     | As name suggest, it represents the maximum number of iterations taken for conjugate gradient solvers. |\n",
    "| 7   | solver − str, {'auto', 'svd', 'cholesky', 'lsqr', 'sparse_cg', 'sag', 'saga'} |\n",
    "|     | This parameter represents which solver to use in the computational routines. Following are the properties of options under this parameter |\n",
    "|     | - auto − It let choose the solver automatically based on the type of data. |\n",
    "|     | - svd − In order to calculate the Ridge coefficients, this parameter uses a Singular Value Decomposition of X. |\n",
    "|     | - cholesky − This parameter uses the standard scipy.linalg.solve() function to get a closed-form solution. |\n",
    "|     | - lsqr − It is the fastest and uses the dedicated regularized least-squares routine scipy.sparse.linalg.lsqr. |\n",
    "|     | - sag − It uses iterative process and a Stochastic Average Gradient descent. |\n",
    "|     | - saga − It also uses iterative process and an improved Stochastic Average Gradient descent. |\n",
    "| 8   | random_state − int, RandomState instance or None, optional, default = none |\n",
    "|     | This parameter represents the seed of the pseudo random number generated which is used while shuffling the data. Following are the options − |\n",
    "|     | - int − In this case, random_state is the seed used by random number generator. |\n",
    "|     | - RandomState instance − In this case, random_state is the random number generator. |\n",
    "|     | - None − In this case, the random number generator is the RandonState instance used by np.random. |\n",
    "\n",
    "## Attributes\n",
    "\n",
    "Followings table consist the attributes used by Ridge module −\n",
    "\n",
    "| No  | Attributes and Description |\n",
    "| :-- | :------------------------- |\n",
    "| 1   | coef_ − array, shape(n_features,) or (n_target, n_features) |\n",
    "|     | This attribute provides the weight vectors. |\n",
    "| 2   | Intercept_ − float \\| array, shape = (n_targets) |\n",
    "|     | It represents the independent term in decision function. |\n",
    "| 3   | n_iter_ − array or None, shape (n_targets) |\n",
    "|     | Available for only ‘sag’ and ‘lsqr’ solver, returns the actual number of iterations for each target. |"
   ]
  },
  {
   "cell_type": "markdown",
   "metadata": {},
   "source": [
    "# Example: Ridge Regression Model"
   ]
  },
  {
   "cell_type": "code",
   "execution_count": 7,
   "metadata": {
    "scrolled": true
   },
   "outputs": [
    {
     "name": "stdout",
     "output_type": "stream",
     "text": [
      "rdg.fit(X, y):\n",
      " Ridge(alpha=0.5, copy_X=True, fit_intercept=True, max_iter=None,\n",
      "   normalize=False, random_state=None, solver='auto', tol=0.001)\n",
      "\n",
      "rdg.score(X,y):\n",
      " 0.7629498741931634\n"
     ]
    }
   ],
   "source": [
    "from sklearn.linear_model import Ridge\n",
    "import numpy as np\n",
    "n_samples, n_features = 15, 10\n",
    "rng = np.random.RandomState(0)\n",
    "y = rng.randn(n_samples)\n",
    "X = rng.randn(n_samples, n_features)\n",
    "rdg = Ridge(alpha = 0.5)\n",
    "print('rdg.fit(X, y):\\n', rdg.fit(X, y))\n",
    "print()\n",
    "print('rdg.score(X,y):\\n', rdg.score(X,y))"
   ]
  },
  {
   "cell_type": "markdown",
   "metadata": {},
   "source": [
    "# Scikit Learn - Bayesian Ridge Regression\n",
    "\n",
    "https://scikit-learn.org/stable/auto_examples/linear_model/plot_bayesian_ridge.html\n",
    "\n",
    "Bayesian regression allows a natural mechanism to survive insufficient data or poorly distributed data by formulating linear regression using probability distributors rather than point estimates. \n",
    "\n",
    "The output or response 'y' is assumed to drawn from a probability distribution rather than estimated as a single value.\n",
    "\n",
    "Mathematically, to obtain a fully probabilistic model the response y is assumed to be Gaussian distributed around X<sub>w</sub> as follows:\n",
    "    \n",
    "p(y⏐X<sub>w</sub>,α)=N(y⏐X<sub>w</sub>,α)\n",
    "\n",
    "One of the most useful type of Bayesian regression is Bayesian Ridge regression which estimates a probabilistic model of the regression problem. \n",
    "\n",
    "Here the prior for the coefficient w is given by spherical Gaussian as follows:\n",
    "    \n",
    "p(w⏐λ)=N(w⏐0,λ<sup>−1</sup> I<sub>p</sub>)\n",
    "\n",
    "This resulting model is called Bayesian Ridge Regression and in scikit-learn sklearn.linear_model.BeyesianRidge module is used for Bayesian Ridge Regression.\n",
    "\n",
    "# Note:\n",
    "\n",
    "In Statistics, Bayesian is \"a prioi\" inference (or assumption).\n",
    "\n",
    "\"a priori\" pronounce as \"a-pri-o-rai\" means \"from the previous\" in Latin. \n",
    "\n",
    "Bayesian Ridge Regression has \"a priori\" assumption of random variable X."
   ]
  },
  {
   "cell_type": "markdown",
   "metadata": {},
   "source": [
    "## Parameters\n",
    "\n",
    "Followings table consist the parameters used by BayesianRidge module\n",
    "\n",
    "| No  | Parameter and Description |\n",
    "| :-- | :------------------------ |\n",
    "| 1   | n_iter − int, optional |\n",
    "|     | It represents the maximum number of iterations. The default value is 300 but the user-defined value must be greater than or equal to 1. |\n",
    "| 2   | fit_intercept − Boolean, optional, default True |\n",
    "|     | It decides whether to calculate the intercept for this model or not. No intercept will be used in calculation, if it will set to false. |\n",
    "| 3   | tol − float, optional, default=1.e-3 |\n",
    "|     | It represents the precision of the solution and will stop the algorithm if w has converged. |\n",
    "| 4   | alpha_1 − float, optional, default=1.e-6 |\n",
    "|     | It is the 1st hyperparameter which is a shape parameter for the Gamma distribution prior over the alpha parameter. |\n",
    "| 5   | alpha_2 − float, optional, default=1.e-6 |\n",
    "|     | It is the 2nd hyperparameter which is an inverse scale parameter for the Gamma distribution prior over the alpha parameter. |\n",
    "| 6   | lambda_1 − float, optional, default=1.e-6 |\n",
    "|     | It is the 1st hyperparameter which is a shape parameter for the Gamma distribution prior over the lambda parameter. |\n",
    "| 7   | lambda_2 − float, optional, default=1.e-6 |\n",
    "|     | It is the 2nd hyperparameter which is an inverse scale parameter for the Gamma distribution prior over the lambda parameter. |\n",
    "| 8   | copy_X − Boolean, optional, default = True |\n",
    "|     | By default, it is true which means X will be copied. But if it is set to false, X may be overwritten. |\n",
    "| 9   | compute_score − boolean, optional, default=False |\n",
    "|     | If set to true, it computes the log marginal likelihood at each iteration of the optimization. |\n",
    "| 10  | verbose − Boolean, optional, default=False |\n",
    "|     | By default, it is false but if set true, verbose mode will be enabled while fitting the model. |"
   ]
  },
  {
   "cell_type": "markdown",
   "metadata": {},
   "source": [
    "## Attributes\n",
    "\n",
    "Followings table consist the attributes used by BayesianRidge module −\n",
    "\n",
    "| No  | Attributes and Description |\n",
    "| :-- | :------------------------- |\n",
    "| 1   | coef_ − array, shape = n_features |\n",
    "|     | This attribute provides the weight vectors. |\n",
    "| 2   | intercept_ − float |\n",
    "|     | It represents the independent term in decision function. |\n",
    "| 3   | alpha_ − float |\n",
    "|     | This attribute provides the estimated precision of the noise. |\n",
    "| 4   | lambda_ − float |\n",
    "|     | This attribute provides the estimated precision of the weight. |\n",
    "| 5   | n_iter_ − int |\n",
    "|     | It provides the actual number of iterations taken by the algorithm to reach the stopping criterion. |\n",
    "| 6   | sigma_ − array, shape = (n_features, n_features) |\n",
    "|     | It provides the estimated variance-covariance matrix of the weights. |\n",
    "| 7   | scores_ − array, shape = (n_iter_+1) |\n",
    "|     | It provides the value of the log marginal likelihood at each iteration of the optimisation. In the resulting score, the array starts with the value of the log marginal likelihood obtained for the initial values of a and λ, and ends with the value obtained for estimated aand λ. |"
   ]
  },
  {
   "cell_type": "markdown",
   "metadata": {},
   "source": [
    "# Example: Bayesian Ridge Regression Model"
   ]
  },
  {
   "cell_type": "code",
   "execution_count": 4,
   "metadata": {},
   "outputs": [
    {
     "name": "stdout",
     "output_type": "stream",
     "text": [
      "BayReg.predict([[1,1]]):\n",
      " [1.00000007]\n",
      "\n",
      "BayReg.coef_:\n",
      " [0.49999993 0.49999993]\n"
     ]
    },
    {
     "data": {
      "image/png": "[encoded data removed]",
      "text/plain": [
       "<Figure size 432x288 with 1 Axes>"
      ]
     },
     "metadata": {
      "needs_background": "light"
     },
     "output_type": "display_data"
    }
   ],
   "source": [
    "from sklearn import linear_model\n",
    "X = [[0, 0], [1, 1], [2, 2], [3, 3]]\n",
    "Y = [0, 1, 2, 3]\n",
    "BayReg = linear_model.BayesianRidge()\n",
    "BayReg.fit(X, Y)\n",
    "print('BayReg.predict([[1,1]]):\\n', BayReg.predict([[1,1]]))\n",
    "print()\n",
    "print('BayReg.coef_:\\n', BayReg.coef_)\n",
    "\n",
    "import matplotlib.pyplot as plt\n",
    "\n",
    "plt.plot (X, Y)\n",
    "plt.show()"
   ]
  },
  {
   "attachments": {
    "image.png": {
     "image/png": "[encoded data removed]"
    }
   },
   "cell_type": "markdown",
   "metadata": {},
   "source": [
    "# Scikit-Learn - LASSO (Least Absolute Shrinkage and Selection Operator)\n",
    "\n",
    "https://scikit-learn.org/stable/modules/generated/sklearn.linear_model.Lasso.html\n",
    "    \n",
    "LASSO is the regularisation technique that performs L1 regularisation. \n",
    "\n",
    "It modifies the loss function by adding the penalty (shrinkage quantity) equivalent to the summation of the absolute value of coefficients.\n",
    "\n",
    "\n",
    "![image.png](attachment:image.png)\n",
    "\n",
    "sklearn.linear_model. Lasso is a linear model, with an added regularisation term, used to estimate sparse coefficients.\n",
    "\n",
    "## Parameters\n",
    "\n",
    "Followings table consist the parameters used by Lasso module −\n",
    "\n",
    "| No  | Parameter and Description |\n",
    "| :-- | :------------------------ |\n",
    "| 1   | alpha − float, optional, default = 1.0 |\n",
    "|     | Alpha, the constant that multiplies the L1 term, is the tuning parameter that decides how much we want to penalize the model. The default value is 1.0. |\n",
    "| 2   | fit_intercept − Boolean, optional. Default=True |\n",
    "|     | This parameter specifies that a constant (bias or intercept) should be added to the decision function. No intercept will be used in calculation, if it will set to false. |\n",
    "| 3   | tol − float, optional |\n",
    "|     | This parameter represents the tolerance for the optimization. The tol value and updates would be compared and if found updates smaller than tol, the optimization checks the dual gap for optimality and continues until it is smaller than tol. |\n",
    "| 4   | normalize − Boolean, optional, default = False |\n",
    "|     |If this parameter is set to True, the regressor X will be normalized before regression. The normalization will be done by subtracting the mean and dividing it by L2 norm. If fit_intercept = False, this parameter will be ignored. |\n",
    "| 5   | copy_X − Boolean, optional, default = True |\n",
    "|     | By default, it is true which means X will be copied. But if it is set to false, X may be overwritten. |\n",
    "| 6   | max_iter − int, optional |\n",
    "|     | As name suggest, it represents the maximum number of iterations taken for conjugate gradient solvers. |\n",
    "| 7   | precompute − True|False|array-like, default=False |\n",
    "|     | With this parameter we can decide whether to use a precomputed Gram matrix to speed up the calculation or not. |\n",
    "| 8   | warm_start − bool, optional, default = false |\n",
    "|     | With this parameter set to True, we can reuse the solution of the previous call to fit as initialization. If we choose default i.e. false, it will erase the previous solution. |\n",
    "| 9   | random_state − int, RandomState instance or None, optional, default = none |\n",
    "|     | This parameter represents the seed of the pseudo random number generated which is used while shuffling the data. Followings are the options − |\n",
    "|     | - int − In this case, random_state is the seed used by random number generator. |\n",
    "|     | - RandomState instance − In this case, random_state is the random number generator. |\n",
    "|     | - None − In this case, the random number generator is the RandonState instance used by np.random. |\n",
    "| 10  | selection − str, default='cyclic' | \n",
    "|     | - Cyclic − The default value is cyclic which means the features will be looping over sequentially by default. |\n",
    "|     | - Random − If we set the selection to random, a random coefficient will be updated every iteration.|\n",
    "\n",
    "## Attributes\n",
    "\n",
    "Followings table consist the attributes used by Lasso module −\n",
    "\n",
    "| No  | Attributes and Description |\n",
    "| :-- | :---- |\n",
    "| 1   | coef_ − array, shape(n_features,) or (n_target, n_features) |\n",
    "|     | This attribute provides the weight vectors. |\n",
    "| 2   | Intercept_ − float | array, shape = (n_targets) |\n",
    "|     | It represents the independent term in decision function. |\n",
    "| 3   | n_iter_ − int or array-like, shape (n_targets) |\n",
    "|     | It gives the number of iterations run by the coordinate descent solver to reach the specified tolerance. |"
   ]
  },
  {
   "cell_type": "markdown",
   "metadata": {},
   "source": [
    "# Example: LASSO Regression"
   ]
  },
  {
   "cell_type": "code",
   "execution_count": 3,
   "metadata": {},
   "outputs": [
    {
     "name": "stdout",
     "output_type": "stream",
     "text": [
      "clf.coef_:\n",
      " [0.85 0.  ]\n",
      "\n",
      "clf.intercept_:\n",
      " 0.15000000000000002\n"
     ]
    }
   ],
   "source": [
    "from sklearn import linear_model\n",
    "clf = linear_model.Lasso(alpha=0.1)\n",
    "clf.fit([[0,0], [1, 1], [2, 2]], [0, 1, 2])\n",
    "# Lasso(alpha=0.1)\n",
    "print('clf.coef_:\\n', clf.coef_)\n",
    "print()\n",
    "# [0.85 0.  ]\n",
    "print('clf.intercept_:\\n', clf.intercept_)\n",
    "# 0.15..."
   ]
  },
  {
   "attachments": {
    "image-2.png": {
     "image/png": "[encoded data removed]"
    },
    "image-3.png": {
     "image/png": "[encoded data removed]"
    },
    "image.png": {
     "image/png": "[encoded data removed]"
    }
   },
   "cell_type": "markdown",
   "metadata": {},
   "source": [
    "# Scikit-Learn Multi-TaskLasso\n",
    "\n",
    "https://scikit-learn.org/stable/modules/generated/sklearn.linear_model.MultiTaskLasso.html\n",
    "\n",
    "https://scikit-learn.org/stable/modules/linear_model.html#multi-task-lasso\n",
    "    \n",
    "The Multi-Task Lasso is a linear model that estimates sparse coefficients for multiple regression problems jointly: y is a 2D array, of shape (n_samples, n_tasks). \n",
    "    \n",
    "The constraint is that the selected features are the same for all the regression problems, also called tasks.\n",
    "    \n",
    "Mathematically, Multi-Task Lasso consists of a linear model trained with a mixed L1-nrom and L2 -norm for regularization. \n",
    "\n",
    "The objective function to minimize is:\n",
    "\n",
    "![image.png](attachment:image.png)\n",
    "\n",
    "where Fro indicates the Frobenius norm as below:\n",
    "\n",
    "![image-2.png](attachment:image-2.png)\n",
    "\n",
    "and Mixed L1-norm and L2-norm:\n",
    "\n",
    "![image-3.png](attachment:image-3.png)\n",
    "\n",
    "The implementation in the class MultiTaskLasso uses coordinate descent as the algorithm to fit the coefficients."
   ]
  },
  {
   "cell_type": "markdown",
   "metadata": {},
   "source": [
    "# Example Multi-Task Lasso"
   ]
  },
  {
   "cell_type": "code",
   "execution_count": 6,
   "metadata": {},
   "outputs": [
    {
     "name": "stdout",
     "output_type": "stream",
     "text": [
      "clf.coef_:\n",
      " [[0.         0.60809415]\n",
      " [0.         0.94592424]]\n",
      "\n",
      "clf.intercept_:\n",
      " [-0.41888636 -0.87382323]\n",
      "\n"
     ]
    }
   ],
   "source": [
    "from sklearn import linear_model\n",
    "clf = linear_model.MultiTaskLasso(alpha=0.1)\n",
    "clf.fit([[0, 1], [1, 2], [2, 4]], [[0, 0], [1, 1], [2, 3]])\n",
    "# MultiTaskLasso(alpha=0.1)\n",
    "print(\"clf.coef_:\\n\", clf.coef_)\n",
    "print()\n",
    "#[[0.         0.60809415]\n",
    "#[0.         0.94592424]]\n",
    "print('clf.intercept_:\\n', clf.intercept_)\n",
    "print()\n",
    "# [-0.41888636 -0.87382323]"
   ]
  },
  {
   "attachments": {
    "image.png": {
     "image/png": "[encoded data removed]"
    }
   },
   "cell_type": "markdown",
   "metadata": {},
   "source": [
    "# ElasticNet\n",
    "\n",
    "https://scikit-learn.org/stable/modules/linear_model.html#multi-task-lasso\n",
    "    \n",
    "The Elastic-Net is a regularised regression method that linearly combines both penalties, i.e., L1-norm and L2-norm of the Lasso and Ridge regression methods. \n",
    "\n",
    "It is useful when there are multiple correlated features. \n",
    "\n",
    "The difference between Lass and Elastic-Net lies in the fact that Lasso is likely to pick one of these features at random while elastic-net is likely to pick both at once.\n",
    "\n",
    "Sklearn provides a linear model named ElasticNet which is trained with both L1, L2-norm for regularisation of the coefficients. \n",
    "\n",
    "The advantage of such combination is that it allows for learning a sparse model where few of the weights are non-zero like Lasso regularisation method, while still maintaining the regularization properties of Ridge regularisation method.\n",
    "\n",
    "Following is the objective function to minimise \n",
    "\n",
    "![image.png](attachment:image.png)"
   ]
  },
  {
   "cell_type": "markdown",
   "metadata": {},
   "source": [
    "## Parameters\n",
    "\n",
    "Following table consist the parameters used by ElasticNet module −\n",
    "\n",
    "| No  | Parameter and Description |\n",
    "| :-- | :----  |\n",
    "| 1   | alpha − float, optional, default = 1.0 |\n",
    "|     | Alpha, the constant that multiplies the L1/L2 term, is the tuning parameter that decides how much we want to penalize the model. The default value is 1.0. |\n",
    "| 2   | l1_ratio − float |\n",
    "|     | This is called the ElasticNet mixing parameter. Its range is 0 < = l1_ratio < = 1. If l1_ratio = 1, the penalty would be L1 penalty. If l1_ratio = 0, the penalty would be an L2 penalty. If the value of l1 ratio is between 0 and 1, the penalty would be the combination of L1 and L2. |\n",
    "| 3   | fit_intercept − Boolean, optional. Default=True |\n",
    "|     | This parameter specifies that a constant (bias or intercept) should be added to the decision function. No intercept will be used in calculation, if it will set to false. |\n",
    "| 4   | tol − float, optional |\n",
    "|     | This parameter represents the tolerance for the optimization. The tol value and updates would be compared and if found updates smaller than tol, the optimization checks the dual gap for optimality and continues until it is smaller than tol. |\n",
    "| 5   | normalise − Boolean, optional, default = False |\n",
    "|     | If this parameter is set to True, the regressor X will be normalised before regression. The normalisation will be done by subtracting the mean and dividing it by L2 norm. If fit_intercept = False, this parameter will be ignored. |\n",
    "| 6   | precompute − True|False|array-like, default=False |\n",
    "|     | With this parameter we can decide whether to use a precomputed Gram matrix to speed up the calculation or not. To preserve sparsity, it would always be true for sparse input. |\n",
    "| 7   | copy_X − Boolean, optional, default = True |\n",
    "|     | By default, it is true which means X will be copied. But if it is set to false, X may be overwritten. |\n",
    "| 8   | max_iter − int, optional |\n",
    "|     | As name suggest, it represents the maximum number of iterations taken for conjugate gradient solvers. |\n",
    "| 9   | warm_start − bool, optional, default = false |\n",
    "|     | With this parameter set to True, we can reuse the solution of the previous call to fit as initialisation. If we choose default i.e. false, it will erase the previous solution. |\n",
    "| 10  | random_state − int, RandomState instance or None, optional, default = none |\n",
    "|     | This parameter represents the seed of the pseudo random number generated which is used while shuffling the data. Following are the options −|\n",
    "|     | - int − In this case, random_state is the seed used by random number generator. |\n",
    "|     | - RandomState instance − In this case, random_state is the random number generator. |\n",
    "|     | - None − In this case, the random number generator is the RandonState instance used by np.random. |\n",
    "| 11  | selection − str, default='cyclic' |\n",
    "|     | - Cyclic − The default value is cyclic which means the features will be looping over sequentially by default. |\n",
    "|     | - Random − If we set the selection to random, a random coefficient will be updated every iteration. |\n",
    "\n",
    "## Attributes\n",
    "\n",
    "Followings table consist the attributes used by ElasticNet module −\n",
    "\n",
    "| No  | Attributes and Description |\n",
    "| :-- | :--------  |\n",
    "| 1   | coef_ − array, shape (n_tasks, n_features) |\n",
    "|     | This attribute provides the weight vectors. |\n",
    "| 2   | Intercept_ − array, shape (n_tasks) |\n",
    "|     | It represents the independent term in decision function. |\n",
    "| 3   | n_iter_ − int |\n",
    "|     | It gives the number of iterations run by the coordinate descent solver to reach the specified tolerance. |"
   ]
  },
  {
   "cell_type": "markdown",
   "metadata": {},
   "source": [
    "# Example of ElasticNet\n",
    "\n",
    "https://scikit-learn.org/stable/modules/generated/sklearn.linear_model.ElasticNet.html"
   ]
  },
  {
   "cell_type": "code",
   "execution_count": 9,
   "metadata": {},
   "outputs": [
    {
     "name": "stdout",
     "output_type": "stream",
     "text": [
      "regr.coef_:\n",
      " [18.83816048 64.55968825]\n",
      "regr.intercept_:\n",
      " 1.4512607561654027\n",
      "regr.predict([[0, 0]]):\n",
      " [1.45126076]\n"
     ]
    }
   ],
   "source": [
    "from sklearn.linear_model import ElasticNet\n",
    "from sklearn.datasets import make_regression\n",
    "X, y = make_regression(n_features=2, random_state=0)\n",
    "regr = ElasticNet(random_state=0)\n",
    "regr.fit(X, y)\n",
    "# ElasticNet(random_state=0)\n",
    "print('regr.coef_:\\n', regr.coef_)\n",
    "#[18.83816048 64.55968825]\n",
    "print('regr.intercept_:\\n', regr.intercept_)\n",
    "#1.451...\n",
    "print('regr.predict([[0, 0]]):\\n', regr.predict([[0, 0]]))\n",
    "#[1.451...]"
   ]
  },
  {
   "attachments": {
    "image-2.png": {
     "image/png": "[encoded data removed]"
    },
    "image-3.png": {
     "image/png": "[encoded data removed]"
    },
    "image.png": {
     "image/png": "[encoded data removed]"
    }
   },
   "cell_type": "markdown",
   "metadata": {},
   "source": [
    "# Scikit Learn - MultiTaskElasticNet\n",
    "\n",
    "https://scikit-learn.org/stable/modules/generated/sklearn.linear_model.MultiTaskElasticNet.html\n",
    "\n",
    "It is an Elastic-Net model that allows to fit multiple regression problems jointly enforcing the selected features to be same for all the regression problems, also called tasks. \n",
    "\n",
    "Sklearn provides a linear model named MultiTaskElasticNet, trained with a mixed L1-norm, L2-norm, and L2 for regularisation, which estimates sparse coefficients for multiple regression problems jointly. \n",
    "\n",
    "In this, the response y is a 2D array of shape (n_samples, n_tasks).\n",
    "\n",
    "Following is the objective function to minimize:\n",
    "    \n",
    "![image.png](attachment:image.png)\n",
    "\n",
    "As in MultiTaskLasso, here also, Fro indicates the Frobenius norm:\n",
    "\n",
    "![image-2.png](attachment:image-2.png)\n",
    "\n",
    "And L1-norm and L2-norm as the following:\n",
    "\n",
    "![image-3.png](attachment:image-3.png)"
   ]
  },
  {
   "cell_type": "markdown",
   "metadata": {},
   "source": [
    "## Parameters and Attributes\n",
    "\n",
    "https://scikit-learn.org/stable/modules/generated/sklearn.linear_model.MultiTaskElasticNet.html\n",
    "\n",
    "The parameters and the attributes for MultiTaskElasticNet are like that of ElasticNet. \n",
    "\n",
    "The only difference is in li_ratio i.e. ElasticNet mixing parameter. \n",
    "\n",
    "In MultiTaskElasticNet its range is 0 < l1_ratio < = 1. \n",
    "\n",
    "If l1_ratio = 1, the penalty would be L1/L2 penalty. \n",
    "\n",
    "If l1_ratio = 0, the penalty would be an L2 penalty. \n",
    "\n",
    "If the value of l1 ratio is between 0 and 1, the penalty would be the combination of L1/L2 and L2.\n",
    "\n",
    "And, opposite to ElasticNet, MultiTaskElasticNet doesn’t have precompute attribute."
   ]
  },
  {
   "cell_type": "markdown",
   "metadata": {},
   "source": [
    "# Example of MultiTaskElasticNet"
   ]
  },
  {
   "cell_type": "code",
   "execution_count": 12,
   "metadata": {},
   "outputs": [
    {
     "name": "stdout",
     "output_type": "stream",
     "text": [
      "clf.coef_:\n",
      " [[0.45663524 0.45612256]\n",
      " [0.45663524 0.45612256]]\n",
      "\n",
      "clf.intercept_:\n",
      " [0.0872422 0.0872422]\n"
     ]
    }
   ],
   "source": [
    "# https://scikit-learn.org/stable/modules/generated/sklearn.linear_model.MultiTaskElasticNet.html\n",
    "from sklearn import linear_model\n",
    "clf = linear_model.MultiTaskElasticNet(alpha=0.1)\n",
    "clf.fit([[0,0], [1, 1], [2, 2]], [[0, 0], [1, 1], [2, 2]])\n",
    "#MultiTaskElasticNet(alpha=0.1)\n",
    "print('clf.coef_:\\n', clf.coef_)\n",
    "print()\n",
    "#[[0.45663524 0.45612256]\n",
    "# [0.45663524 0.45612256]]\n",
    "print('clf.intercept_:\\n', clf.intercept_)\n",
    "#[0.0872422 0.0872422]"
   ]
  },
  {
   "cell_type": "code",
   "execution_count": null,
   "metadata": {},
   "outputs": [],
   "source": []
  }
 ],
 "metadata": {
  "kernelspec": {
   "display_name": "Python 3",
   "language": "python",
   "name": "python3"
  },
  "language_info": {
   "codemirror_mode": {
    "name": "ipython",
    "version": 3
   },
   "file_extension": ".py",
   "mimetype": "text/x-python",
   "name": "python",
   "nbconvert_exporter": "python",
   "pygments_lexer": "ipython3",
   "version": "3.7.9"
  }
 },
 "nbformat": 4,
 "nbformat_minor": 4
}
