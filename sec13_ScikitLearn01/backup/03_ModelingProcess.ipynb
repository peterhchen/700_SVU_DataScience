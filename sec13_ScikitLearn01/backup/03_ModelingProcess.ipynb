{
 "cells": [
  {
   "cell_type": "markdown",
   "metadata": {},
   "source": [
    "# Data Modeling\n",
    "\n",
    "https://scikit-learn.org/stable/tutorial/basic/tutorial.html\n",
    "    \n",
    "We discuss modeling process involved in Scikit-learn. \n",
    "\n",
    "Let us understand about the same in detail and begin with dataset loading."
   ]
  },
  {
   "cell_type": "markdown",
   "metadata": {},
   "source": [
    "# Data Modeling Process: Machine learning with scikit-learn\n",
    "\n",
    "https://scikit-learn.org/stable/tutorial/basic/tutorial.html\n",
    "\n",
    "## Machine learning: the problem setting\n",
    "\n",
    "In general, a learning problem considers a set of n samples of data and then tries to predict properties of unknown data. If each sample is more than a single number and, for instance, a multi-dimensional entry (aka multivariate data), it is said to have several attributes or features.\n",
    "\n",
    "Learning problems fall into a few categories:\n",
    "\n",
    "- ***supervised learning***, in which the data comes with additional attributes that we want to predict (Click here to go to the scikit-learn supervised learning page).This problem can be either:\n",
    "\n",
    "    - ***classification***: samples belong to two or more classes and we want to learn from already labeled data how to predict the class of unlabeled data. An example of a classification problem would be handwritten digit recognition, in which the aim is to assign each input vector to one of a finite number of discrete categories. Another way to think of classification is as a discrete (as opposed to continuous) form of supervised learning where one has a limited number of categories and for each of the n samples provided, one is to try to label them with the correct category or class.\n",
    "\n",
    "    - ***regression***: if the desired output consists of one or more continuous variables, then the task is called regression. An example of a regression problem would be the prediction of the length of a salmon as a function of its age and weight.\n",
    "\n",
    "- ***unsupervised learning***, in which the training data consists of a set of input vectors x without any corresponding target values. The goal in such problems may be to discover groups of similar examples within the data, where it is called clustering, or to determine the distribution of data within the input space, known as density estimation, or to project the data from a high-dimensional space down to two or three dimensions for the purpose of visualization."
   ]
  },
  {
   "cell_type": "markdown",
   "metadata": {},
   "source": [
    "# Loading an Example Dataset\n",
    "\n",
    "https://scikit-learn.org/stable/tutorial/basic/tutorial.html\n",
    "    \n",
    "A collection of data is called dataset. It is having the following two components −\n",
    "\n",
    "- Features − The variables of data are called its features. They are also known as predictors, inputs or attributes.\n",
    "\n",
    "    - Feature matrix − It is the collection of features, in case there are more than one.\n",
    "\n",
    "    - Feature Names − It is the list of all the names of the features.\n",
    "\n",
    "- Response − It is the output variable that basically depends upon the feature variables. They are also known as target, label or output.\n",
    "\n",
    "    - Response Vector − It is used to represent response column. Generally, we have just one response column.\n",
    "\n",
    "    - Target Names − It represent the possible values taken by a response vector.\n",
    "\n",
    "Scikit-learn have few example datasets like iris and digits for classification and the Boston house prices for regression.\n",
    "\n",
    "## Example\n",
    "Following is an example to load iris dataset "
   ]
  },
  {
   "cell_type": "code",
   "execution_count": 3,
   "metadata": {},
   "outputs": [
    {
     "name": "stdout",
     "output_type": "stream",
     "text": [
      "Feature names: ['sepal length (cm)', 'sepal width (cm)', 'petal length (cm)', 'petal width (cm)']\n",
      "Target names: ['setosa' 'versicolor' 'virginica']\n",
      "\n",
      "First 10 rows of X:\n",
      " [[5.1 3.5 1.4 0.2]\n",
      " [4.9 3.  1.4 0.2]\n",
      " [4.7 3.2 1.3 0.2]\n",
      " [4.6 3.1 1.5 0.2]\n",
      " [5.  3.6 1.4 0.2]\n",
      " [5.4 3.9 1.7 0.4]\n",
      " [4.6 3.4 1.4 0.3]\n",
      " [5.  3.4 1.5 0.2]\n",
      " [4.4 2.9 1.4 0.2]\n",
      " [4.9 3.1 1.5 0.1]]\n"
     ]
    }
   ],
   "source": [
    "# https://github.com/scikit-learn/scikit-learn/blob/master/sklearn/datasets/data/iris.csv\n",
    "from sklearn.datasets import load_iris\n",
    "iris = load_iris()\n",
    "X = iris.data\n",
    "y = iris.target\n",
    "feature_names = iris.feature_names\n",
    "target_names = iris.target_names\n",
    "print(\"Feature names:\", feature_names)\n",
    "print(\"Target names:\", target_names)\n",
    "print(\"\\nFirst 10 rows of X:\\n\", X[:10])"
   ]
  },
  {
   "cell_type": "markdown",
   "metadata": {},
   "source": [
    "## Splitting the dataset\n",
    "\n",
    "To check the accuracy of our model, we can split the dataset into two pieces-a training set and a testing set. \n",
    "\n",
    "Use the training set to train the model and testing set to test the model. After that, we can evaluate how well our model did.\n",
    "\n",
    "### Example\n",
    "\n",
    "The following example will split the data into 70:30 ratio, i.e., 70% data will be used as training data and 30% will be used as testing data. \n",
    "    \n",
    "The dataset is iris dataset as in above example."
   ]
  },
  {
   "cell_type": "code",
   "execution_count": 7,
   "metadata": {},
   "outputs": [
    {
     "name": "stdout",
     "output_type": "stream",
     "text": [
      "X_train.shape:\n",
      " (105, 4)\n",
      "X_test.shape:\n",
      " (45, 4)\n",
      "y_train.shape:\n",
      " (105,)\n",
      "y_test.shape:\n",
      " (45,)\n"
     ]
    }
   ],
   "source": [
    "from sklearn.datasets import load_iris\n",
    "iris = load_iris()\n",
    "\n",
    "X = iris.data\n",
    "y = iris.target\n",
    "\n",
    "from sklearn.model_selection import train_test_split\n",
    "\n",
    "X_train, X_test, y_train, y_test = train_test_split(\n",
    "   X, y, test_size = 0.3, random_state = 1\n",
    ")\n",
    "\n",
    "print('X_train.shape:\\n', X_train.shape)\n",
    "print('X_test.shape:\\n', X_test.shape)\n",
    "print('y_train.shape:\\n', y_train.shape)\n",
    "print('y_test.shape:\\n', y_test.shape)"
   ]
  },
  {
   "cell_type": "markdown",
   "metadata": {},
   "source": [
    "## Note:\n",
    "\n",
    "As seen in the example above, it uses train_test_split() function of scikit-learn to split the dataset. \n",
    "\n",
    "This function has the following arguments −\n",
    "\n",
    "- X, y − Here, X is the feature matrix and y is the response vector, which need to be split.\n",
    "\n",
    "- test_size − This represents the ratio of test data to the total given data. As in the above example, we are setting test_data = 0.3 for 150 rows of X. It will produce test data of 150*0.3 = 45 rows.\n",
    "\n",
    "- random_state − It is used to guarantee that the split will always be the same. This is useful in the situations where you want reproducible results.\n",
    "\n",
    "## Train the Model\n",
    "\n",
    "Next, we can use our dataset to train some prediction-model. As discussed, scikit-learn has wide range of Machine Learning (ML) algorithms which have a consistent interface for fitting, predicting accuracy, recall etc.\n",
    "\n",
    "### Example\n",
    "\n",
    "In the example below, we are going to use KNN (K nearest neighbors) classifier. \n",
    "\n",
    "This is the supervised and classification example.\n",
    "\n",
    "Don’t go into the details of KNN algorithms, as there will be a separate courses for that. \n",
    "\n",
    "This example is used to make you understand the implementation part only."
   ]
  },
  {
   "cell_type": "code",
   "execution_count": 10,
   "metadata": {},
   "outputs": [
    {
     "name": "stdout",
     "output_type": "stream",
     "text": [
      "Accuracy: 0.9833333333333333\n",
      "Predictions: ['versicolor', 'virginica']\n"
     ]
    }
   ],
   "source": [
    "from sklearn.datasets import load_iris\n",
    "iris = load_iris()\n",
    "X = iris.data\n",
    "y = iris.target\n",
    "from sklearn.model_selection import train_test_split\n",
    "X_train, X_test, y_train, y_test = train_test_split(\n",
    "   X, y, test_size = 0.4, random_state=1\n",
    ")\n",
    "from sklearn.neighbors import KNeighborsClassifier\n",
    "from sklearn import metrics\n",
    "classifier_knn = KNeighborsClassifier(n_neighbors = 3)\n",
    "classifier_knn.fit(X_train, y_train)\n",
    "y_pred = classifier_knn.predict(X_test)\n",
    "# Finding accuracy by comparing actual response values(y_test)with predicted response value(y_pred)\n",
    "print(\"Accuracy:\", metrics.accuracy_score(y_test, y_pred))\n",
    "# Providing sample data and the model will make prediction out of that data\n",
    "\n",
    "sample = [[5, 5, 3, 2], [2, 4, 3, 5]]\n",
    "preds = classifier_knn.predict(sample)\n",
    "pred_species = [iris.target_names[p] for p in preds] \n",
    "print(\"Predictions:\", pred_species)"
   ]
  },
  {
   "cell_type": "markdown",
   "metadata": {},
   "source": [
    "## Model Persistence\n",
    "\n",
    "Once you train the model, it is desirable that the model should be persist for future use so that we do not need to retrain it again and again. \n",
    "\n",
    "It can be done with the help of dump and load features of joblib package.\n",
    "\n",
    "Consider the example below in which we will be saving the above trained model (classifier_knn) for future use −\n",
    "\n",
    "    from sklearn.externals import joblib\n",
    "\n",
    "    joblib.dump(classifier_knn, 'iris_classifier_knn.joblib')\n",
    "    \n",
    "The above code will save the model into file named iris_classifier_knn.joblib. \n",
    "\n",
    "Now, the object can be reloaded from the file with the help of following code −\n",
    "\n",
    "    joblib.load('iris_classifier_knn.joblib')"
   ]
  },
  {
   "cell_type": "markdown",
   "metadata": {},
   "source": [
    "## Preprocessing the Data\n",
    "\n",
    "As we are dealing with lots of data and that data is in raw form, before inputting that data to machine learning algorithms, we need to convert it into meaningful data. \n",
    "\n",
    "This process is called preprocessing the data. \n",
    "\n",
    "Scikit-learn has package named preprocessing for this purpose. \n",
    "\n",
    "The preprocessing package has the following techniques −\n",
    "\n",
    "## Binarization\n",
    "\n",
    "This preprocessing technique is used when we need to convert our numerical values into Boolean values.\n",
    "\n",
    "### Example"
   ]
  },
  {
   "cell_type": "code",
   "execution_count": 13,
   "metadata": {},
   "outputs": [
    {
     "name": "stdout",
     "output_type": "stream",
     "text": [
      "\n",
      "Binarized data:\n",
      " [[1. 0. 1.]\n",
      " [0. 1. 1.]\n",
      " [0. 0. 1.]\n",
      " [1. 1. 0.]]\n"
     ]
    }
   ],
   "source": [
    "import numpy as np\n",
    "from sklearn import preprocessing\n",
    "input_data = np.array(\n",
    "    [[2.1, -1.9, 5.5],\n",
    "     [-1.5, 2.4, 3.5],\n",
    "     [0.5, -7.9, 5.6],\n",
    "     [5.9, 2.3, -5.8]]\n",
    ")\n",
    "\n",
    "data_binarized = preprocessing.Binarizer(threshold=0.5).transform(input_data)\n",
    "print(\"\\nBinarized data:\\n\", data_binarized)"
   ]
  },
  {
   "cell_type": "markdown",
   "metadata": {},
   "source": [
    "## Mean Removal\n",
    "\n",
    "This technique is used to eliminate the mean from feature vector so that every feature centered on zero.\n",
    "\n",
    "### Example"
   ]
  },
  {
   "cell_type": "code",
   "execution_count": 16,
   "metadata": {},
   "outputs": [
    {
     "name": "stdout",
     "output_type": "stream",
     "text": [
      "Mean = [ 1.75  -1.275  2.2  ]\n",
      "Stddeviation =  [2.71431391 4.20022321 4.69414529]\n",
      "Mean_removed = [1.11022302e-16 0.00000000e+00 0.00000000e+00]\n",
      "Stddeviation_removed = [1. 1. 1.]\n"
     ]
    }
   ],
   "source": [
    "import numpy as np\n",
    "from sklearn import preprocessing\n",
    "input_data = np.array(\n",
    "   [[2.1, -1.9, 5.5],\n",
    "   [-1.5, 2.4, 3.5],\n",
    "   [0.5, -7.9, 5.6],\n",
    "   [5.9, 2.3, -5.8]]\n",
    ")\n",
    "\n",
    "#displaying the mean and the standard deviation of the input data\n",
    "print(\"Mean =\", input_data.mean(axis=0))\n",
    "print(\"Stddeviation = \", input_data.std(axis=0))\n",
    "#Removing the mean and the standard deviation of the input data\n",
    "\n",
    "data_scaled = preprocessing.scale(input_data)\n",
    "print(\"Mean_removed =\", data_scaled.mean(axis=0))\n",
    "print(\"Stddeviation_removed =\", data_scaled.std(axis=0))"
   ]
  },
  {
   "cell_type": "markdown",
   "metadata": {},
   "source": [
    "## Scaling\n",
    "\n",
    "We use this preprocessing technique for scaling the feature vectors. \n",
    "\n",
    "Scaling of feature vectors is important, because the features should not be synthetically large or small.\n",
    "\n",
    "### Example"
   ]
  },
  {
   "cell_type": "code",
   "execution_count": 17,
   "metadata": {},
   "outputs": [
    {
     "name": "stdout",
     "output_type": "stream",
     "text": [
      "\n",
      "Min max scaled data:\n",
      " [[0.48648649 0.58252427 0.99122807]\n",
      " [0.         1.         0.81578947]\n",
      " [0.27027027 0.         1.        ]\n",
      " [1.         0.99029126 0.        ]]\n"
     ]
    }
   ],
   "source": [
    "import numpy as np\n",
    "from sklearn import preprocessing\n",
    "input_data = np.array(\n",
    "   [\n",
    "      [2.1, -1.9, 5.5],\n",
    "      [-1.5, 2.4, 3.5],\n",
    "      [0.5, -7.9, 5.6],\n",
    "      [5.9, 2.3, -5.8]\n",
    "   ]\n",
    ")\n",
    "data_scaler_minmax = preprocessing.MinMaxScaler(feature_range=(0,1))\n",
    "data_scaled_minmax = data_scaler_minmax.fit_transform(input_data)\n",
    "print (\"\\nMin max scaled data:\\n\", data_scaled_minmax)"
   ]
  },
  {
   "cell_type": "markdown",
   "metadata": {},
   "source": [
    "## Normalization\n",
    "\n",
    "We use this preprocessing technique for modifying the feature vectors. \n",
    "\n",
    "Normalization of feature vectors is necessary so that the feature vectors can be measured at common scale. There are two types of normalization as follows −\n",
    "\n",
    "## L1 Normalization\n",
    "\n",
    "It is also called Least Absolute Deviations. \n",
    "\n",
    "It modifies the value in such a manner that the sum of the absolute values remains always up to 1 in each row. \n",
    "\n",
    "Following example shows the implementation of L1 normalization on input data.\n",
    "\n",
    "### Example"
   ]
  },
  {
   "cell_type": "code",
   "execution_count": 18,
   "metadata": {},
   "outputs": [
    {
     "name": "stdout",
     "output_type": "stream",
     "text": [
      "\n",
      "L1 normalized data:\n",
      " [[ 0.22105263 -0.2         0.57894737]\n",
      " [-0.2027027   0.32432432  0.47297297]\n",
      " [ 0.03571429 -0.56428571  0.4       ]\n",
      " [ 0.42142857  0.16428571 -0.41428571]]\n"
     ]
    }
   ],
   "source": [
    "import numpy as np\n",
    "from sklearn import preprocessing\n",
    "input_data = np.array(\n",
    "   [\n",
    "      [2.1, -1.9, 5.5],\n",
    "      [-1.5, 2.4, 3.5],\n",
    "      [0.5, -7.9, 5.6],\n",
    "      [5.9, 2.3, -5.8]\n",
    "   ]\n",
    ")\n",
    "data_normalized_l1 = preprocessing.normalize(input_data, norm='l1')\n",
    "print(\"\\nL1 normalized data:\\n\", data_normalized_l1)"
   ]
  },
  {
   "cell_type": "markdown",
   "metadata": {},
   "source": [
    "## L2 Normalization\n",
    "\n",
    "Also called Least Squares. \n",
    "\n",
    "It modifies the value in such a manner that the sum of the squares remains always up to 1 in each row. \n",
    "\n",
    "Following example shows the implementation of L2 normalization on input data.\n",
    "\n",
    "### Example"
   ]
  },
  {
   "cell_type": "code",
   "execution_count": 19,
   "metadata": {},
   "outputs": [
    {
     "name": "stdout",
     "output_type": "stream",
     "text": [
      "\n",
      "L1 normalized data:\n",
      " [[ 0.33946114 -0.30713151  0.88906489]\n",
      " [-0.33325106  0.53320169  0.7775858 ]\n",
      " [ 0.05156558 -0.81473612  0.57753446]\n",
      " [ 0.68706914  0.26784051 -0.6754239 ]]\n"
     ]
    }
   ],
   "source": [
    "import numpy as np\n",
    "from sklearn import preprocessing\n",
    "input_data = np.array(\n",
    "   [\n",
    "      [2.1, -1.9, 5.5],\n",
    "      [-1.5, 2.4, 3.5],\n",
    "      [0.5, -7.9, 5.6],\n",
    "      [5.9, 2.3, -5.8]\n",
    "   ]\n",
    ")\n",
    "data_normalized_l2 = preprocessing.normalize(input_data, norm='l2')\n",
    "print(\"\\nL1 normalized data:\\n\", data_normalized_l2)"
   ]
  }
 ],
 "metadata": {
  "kernelspec": {
   "display_name": "Python 3",
   "language": "python",
   "name": "python3"
  },
  "language_info": {
   "codemirror_mode": {
    "name": "ipython",
    "version": 3
   },
   "file_extension": ".py",
   "mimetype": "text/x-python",
   "name": "python",
   "nbconvert_exporter": "python",
   "pygments_lexer": "ipython3",
   "version": "3.7.9"
  }
 },
 "nbformat": 4,
 "nbformat_minor": 4
}
