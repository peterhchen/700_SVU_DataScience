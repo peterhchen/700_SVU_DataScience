{
 "cells": [
  {
   "cell_type": "markdown",
   "metadata": {},
   "source": [
    "# Scikit-Learn - Conventions\n",
    "\n",
    "https://scikit-learn.org/stable/tutorial/basic/tutorial.html#conventions\n",
    "    \n",
    "Scikit-learn’s objects share a uniform basic API that consists of the following three complementary interfaces −\n",
    "\n",
    "- Estimator interface − It is for building and fitting the models.\n",
    "\n",
    "- Predictor interface − It is for making predictions.\n",
    "\n",
    "- Transformer interface − It is for converting data.\n",
    "\n",
    "The APIs adopt simple conventions and the design choices have been guided in a manner to avoid the proliferation of framework code.\n",
    "\n",
    "## Purpose of Conventions\n",
    "\n",
    "The purpose of conventions is to make sure that the API stick to the following broad principles −\n",
    "\n",
    "- Consistency − All the objects whether they are basic, or composite must share a consistent interface which further composed of a limited set of methods.\n",
    "\n",
    "- Inspection − Constructor parameters and parameters values determined by learning algorithm should be stored and exposed as public attributes.\n",
    "\n",
    "- Non-proliferation of classes − Datasets should be represented as NumPy arrays or Scipy sparse matrix whereas hyper-parameters names and values should be represented as standard Python strings to avoid the proliferation of framework code.\n",
    "\n",
    "- Composition − The algorithms whether they are expressible as sequences or combinations of transformations to the data or naturally viewed as meta-algorithms parameterized on other algorithms, should be implemented and composed from existing building blocks.\n",
    "\n",
    "- Sensible defaults − In scikit-learn whenever an operation requires a user-defined parameter, an appropriate default value is defined. This default value should cause the operation to be performed in a sensible way, for example, giving a base-line solution for the task at hand.\n",
    "\n",
    "## Various Conventions\n",
    "\n",
    "The conventions available in Sklearn are explained below −\n",
    "\n",
    "### Type casting\n",
    "\n",
    "https://scikit-learn.org/stable/tutorial/basic/tutorial.html#conventions\n",
    "\n",
    "Unless otherwise specified, input will be cast to float64:\n",
    "\n",
    "In the following example, in which sklearn.random_projection module used to reduce the dimensionality of the data, will explain it −\n",
    "\n",
    "### Example"
   ]
  },
  {
   "cell_type": "code",
   "execution_count": 6,
   "metadata": {},
   "outputs": [
    {
     "name": "stdout",
     "output_type": "stream",
     "text": [
      "X.dtype:\n",
      " float32\n",
      "\n",
      "X_new.dtype:\n",
      " float64\n"
     ]
    }
   ],
   "source": [
    "import numpy as np\n",
    "from sklearn import random_projection\n",
    "\n",
    "rng = np.random.RandomState(0)\n",
    "X = rng.rand(10,2000)\n",
    "X = np.array(X, dtype = 'float32')\n",
    "print('X.dtype:\\n', X.dtype)\n",
    "print()\n",
    "transformer_data = random_projection.GaussianRandomProjection()\n",
    "#X_new = transformer.fit_transform(X)\n",
    "X_new = transformer_data.fit_transform(X)\n",
    "print('X_new.dtype:\\n', X_new.dtype)"
   ]
  },
  {
   "attachments": {
    "image.png": {
     "image/png": "[encoded data removed]"
    }
   },
   "cell_type": "markdown",
   "metadata": {},
   "source": [
    "# Note:\n",
    "\n",
    "In this example, X is float32, which is cast to float64 by fit_transform(X).\n",
    "\n",
    "# Target Data and Classification Targets\n",
    "Regression targets are cast to float64 and classification targets are maintained:\n",
    "\n",
    "![image.png](attachment:image.png)"
   ]
  },
  {
   "cell_type": "code",
   "execution_count": 10,
   "metadata": {},
   "outputs": [
    {
     "name": "stdout",
     "output_type": "stream",
     "text": [
      "clf.fit(iris.data, iris.target):\n",
      "SVC()\n",
      "\n",
      "list(clf.predict(iris.data[:5])):\n",
      "[0, 0, 0, 0, 0]\n",
      "\n",
      "iris.data[:3]:\n",
      "[[5.1 3.5 1.4 0.2]\n",
      " [4.9 3.  1.4 0.2]\n",
      " [4.7 3.2 1.3 0.2]]\n",
      "\n",
      "iris.data.dtype:\n",
      "float64\n",
      "\n",
      "list(clf.predict(iris.data[:5])):\n",
      "['setosa', 'setosa', 'setosa', 'setosa', 'setosa']\n"
     ]
    }
   ],
   "source": [
    "from sklearn import datasets\n",
    "from sklearn.svm import SVC\n",
    "iris = datasets.load_iris()\n",
    "clf = SVC()\n",
    "print('clf.fit(iris.data, iris.target):')\n",
    "print(clf.fit(iris.data, iris.target))\n",
    "print()\n",
    "#SVC()\n",
    "\n",
    "print('list(clf.predict(iris.data[:5])):')\n",
    "print(list(clf.predict(iris.data[:5])))\n",
    "print()\n",
    "# Label data are integer\n",
    "#[0, 0, 0, ...]\n",
    "print ('iris.data[:3]:')\n",
    "print (iris.data[:3])\n",
    "print()\n",
    "# \n",
    "print ('iris.data.dtype:')\n",
    "print (iris.data.dtype)\n",
    "print()\n",
    "# float64\n",
    "\n",
    "clf.fit(iris.data, iris.target_names[iris.target])\n",
    "#SVC()\n",
    "print('list(clf.predict(iris.data[:5])):')\n",
    "print(list(clf.predict(iris.data[:5])))"
   ]
  },
  {
   "cell_type": "markdown",
   "metadata": {},
   "source": [
    "### Note: \n",
    "\n",
    "In the above example, we can see that X is float32 which is cast to float64 by fit_transform(X)."
   ]
  },
  {
   "cell_type": "markdown",
   "metadata": {},
   "source": [
    "## Refitting and Updating Parameters\n",
    "\n",
    "Hyper-parameters of an estimator can be updated and refitted after it has been constructed via the set_params() method. \n",
    "\n",
    "Let’s see the following example to understand it −\n",
    "\n",
    "### Example"
   ]
  },
  {
   "cell_type": "code",
   "execution_count": 3,
   "metadata": {},
   "outputs": [
    {
     "name": "stdout",
     "output_type": "stream",
     "text": [
      "X[:10]:\n",
      " [[5.1 3.5 1.4 0.2]\n",
      " [4.9 3.  1.4 0.2]\n",
      " [4.7 3.2 1.3 0.2]\n",
      " [4.6 3.1 1.5 0.2]\n",
      " [5.  3.6 1.4 0.2]\n",
      " [5.4 3.9 1.7 0.4]\n",
      " [4.6 3.4 1.4 0.3]\n",
      " [5.  3.4 1.5 0.2]\n",
      " [4.4 2.9 1.4 0.2]\n",
      " [4.9 3.1 1.5 0.1]]\n",
      "\n",
      "y[:10]:\n",
      " [0 0 0 0 0 0 0 0 0 0]\n",
      "\n",
      "kernel = 'linear' =>clf.predict(X[:5]):\n",
      " [0 0 0 0 0]\n",
      "kernel = 'rbf' => clf.predict(X[:5]):\n",
      " [0 0 0 0 0]\n"
     ]
    }
   ],
   "source": [
    "import numpy as np\n",
    "from sklearn.datasets import load_iris\n",
    "from sklearn.svm import SVC\n",
    "X, y = load_iris(return_X_y = True)\n",
    "print('X[:10]:\\n', X[:10])\n",
    "print()\n",
    "print('y[:10]:\\n', y[:10])\n",
    "print()\n",
    "clf = SVC()\n",
    "clf.set_params(kernel = 'linear').fit(X, y)\n",
    "print(\"kernel = 'linear' =>clf.predict(X[:5]):\\n\", clf.predict(X[:5]))\n",
    "\n",
    "clf.set_params(kernel = 'rbf', gamma = 'scale').fit(X, y)\n",
    "print(\"kernel = 'rbf' => clf.predict(X[:5]):\\n\", clf.predict(X[:5]))"
   ]
  },
  {
   "cell_type": "markdown",
   "metadata": {},
   "source": [
    "## Multiclass & Multilabel fitting\n",
    "\n",
    "In case of multiclass fitting, both learning and the prediction tasks are dependent on the format of the target data fit upon. \n",
    "\n",
    "The module used is sklearn.multiclass. \n",
    "\n",
    "Check the example below, where multiclass classifier is fit on a 1d array.\n",
    "\n",
    "### Example"
   ]
  },
  {
   "cell_type": "code",
   "execution_count": 5,
   "metadata": {},
   "outputs": [
    {
     "name": "stdout",
     "output_type": "stream",
     "text": [
      "classif.fit(X, y).predict(X):\n",
      " [0 1 1 1 2]\n"
     ]
    }
   ],
   "source": [
    "from sklearn.svm import SVC\n",
    "from sklearn.multiclass import OneVsRestClassifier\n",
    "from sklearn.preprocessing import LabelBinarizer\n",
    "X = [[1, 2], [3, 4], [4, 5], [5, 2], [1, 1]]\n",
    "y = [0, 0, 1, 1, 2]\n",
    "classif = OneVsRestClassifier(estimator = SVC(gamma = 'scale',random_state = 0))\n",
    "print('classif.fit(X, y).predict(X):\\n', classif.fit(X, y).predict(X))"
   ]
  },
  {
   "cell_type": "markdown",
   "metadata": {},
   "source": [
    "In the above example, classifier is fit on one dimensional array of multiclass labels and the predict() method hence provides corresponding multiclass prediction. But on the other hand, it is also possible to fit upon a two-dimensional array of binary label indicators as follows −\n",
    "\n",
    "### Example"
   ]
  },
  {
   "cell_type": "code",
   "execution_count": 7,
   "metadata": {},
   "outputs": [
    {
     "name": "stdout",
     "output_type": "stream",
     "text": [
      "classif.fit(X, y).predict(X):\n",
      " [[0 0 0]\n",
      " [0 0 0]\n",
      " [0 1 0]\n",
      " [0 1 0]\n",
      " [0 0 0]]\n"
     ]
    }
   ],
   "source": [
    "from sklearn.svm import SVC\n",
    "from sklearn.multiclass import OneVsRestClassifier\n",
    "from sklearn.preprocessing import LabelBinarizer\n",
    "X = [[1, 2], [3, 4], [4, 5], [5, 2], [1, 1]]\n",
    "y = LabelBinarizer().fit_transform(y)\n",
    "print('classif.fit(X, y).predict(X):\\n', classif.fit(X, y).predict(X))"
   ]
  },
  {
   "cell_type": "markdown",
   "metadata": {},
   "source": [
    "Similarly, in case of multilabel fitting, an instance can be assigned multiple labels as follows −\n",
    "\n",
    "### Example"
   ]
  },
  {
   "cell_type": "code",
   "execution_count": 8,
   "metadata": {},
   "outputs": [
    {
     "name": "stdout",
     "output_type": "stream",
     "text": [
      "classif.fit(X, y).predict(X):\n",
      " [[1 0 1 0 0]\n",
      " [1 0 1 0 0]\n",
      " [1 0 1 1 0]\n",
      " [1 0 1 1 0]\n",
      " [1 0 1 0 0]]\n"
     ]
    }
   ],
   "source": [
    "from sklearn.preprocessing import MultiLabelBinarizer\n",
    "y = [[0, 1], [0, 2], [1, 3], [0, 2, 3], [2, 4]]\n",
    "y = MultiLabelBinarizer().fit_transform(y)\n",
    "print('classif.fit(X, y).predict(X):\\n', classif.fit(X, y).predict(X))"
   ]
  },
  {
   "cell_type": "markdown",
   "metadata": {},
   "source": [
    "In the above example, sklearn.MultiLabelBinarizer is used to binarize the two dimensional array of multilabels to fit upon. \n",
    "\n",
    "That is why predict() function gives a 2d array as output with multiple labels for each instance."
   ]
  }
 ],
 "metadata": {
  "kernelspec": {
   "display_name": "Python 3",
   "language": "python",
   "name": "python3"
  },
  "language_info": {
   "codemirror_mode": {
    "name": "ipython",
    "version": 3
   },
   "file_extension": ".py",
   "mimetype": "text/x-python",
   "name": "python",
   "nbconvert_exporter": "python",
   "pygments_lexer": "ipython3",
   "version": "3.7.9"
  }
 },
 "nbformat": 4,
 "nbformat_minor": 4
}
